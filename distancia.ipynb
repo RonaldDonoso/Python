{
  "nbformat": 4,
  "nbformat_minor": 0,
  "metadata": {
    "colab": {
      "provenance": []
    },
    "kernelspec": {
      "name": "python3",
      "display_name": "Python 3"
    },
    "language_info": {
      "name": "python"
    }
  },
  "cells": [
    {
      "cell_type": "code",
      "execution_count": null,
      "metadata": {
        "id": "8r1wAYpmO184"
      },
      "outputs": [],
      "source": [
        "f1 = int(input(\"Ingrese la fila de la primera casa: \"))\n",
        "c1 = int(input(\"Ingrese la columna de la primera casa: \"))\n",
        "f2 = int(input(\"Ingrese la fila de la segunda casa: \"))\n",
        "c2 = int(input(\"Ingrese la columna de la segunda casa: \"))\n",
        "\n",
        "distancia = ((f2 - f1) ** 2 + (c2 - c1) ** 2) ** 0.5\n",
        "\n",
        "print(\"La distancia entre las dos casas es:\", distancia)\n"
      ]
    }
  ]
}

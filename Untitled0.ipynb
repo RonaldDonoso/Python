{
  "nbformat": 4,
  "nbformat_minor": 0,
  "metadata": {
    "colab": {
      "provenance": []
    },
    "kernelspec": {
      "name": "python3",
      "display_name": "Python 3"
    },
    "language_info": {
      "name": "python"
    }
  },
  "cells": [
    {
      "cell_type": "code",
      "execution_count": 13,
      "metadata": {
        "colab": {
          "base_uri": "https://localhost:8080/"
        },
        "id": "jnbhSR5rKnU_",
        "outputId": "83123b0a-2e04-4ab7-f7a7-0443d477d46e"
      },
      "outputs": [
        {
          "output_type": "stream",
          "name": "stdout",
          "text": [
            "Desde pepito hasta maria hay: 16 casas\n",
            "Desde pepito hasta la casa hay: 4 casas\n"
          ]
        }
      ],
      "source": [
        "pepito = 1\n",
        "maria = 17\n",
        "casa = 4\n",
        "conteo = 0\n",
        "conteo2 = 0\n",
        "\n",
        "while pepito != maria:\n",
        "    pepito += 1\n",
        "    conteo += 1\n",
        "\n",
        "print(\"Desde pepito hasta maria hay:\", conteo, \"casas\")\n",
        "pepito=1\n",
        "\n",
        "while pepito != casa:\n",
        "    pepito += 1\n",
        "    conteo2 += 1\n",
        "\n",
        "print(\"Desde pepito hasta la casa hay:\", casa, \"casas\")\n"
      ]
    },
    {
      "cell_type": "code",
      "source": [
        "pepito_x = 2\n",
        "pepito_y = 2\n",
        "\n",
        "maria_x = 4\n",
        "maria_y = 4\n",
        "\n",
        "distancia_x = abs(maria_x - pepito_x)\n",
        "distancia_y = abs(maria_y - pepito_y)\n",
        "\n",
        "casas = distancia_x + distancia_y\n",
        "\n",
        "print(\"Número de casas para llegar:\", casas)\n"
      ],
      "metadata": {
        "colab": {
          "base_uri": "https://localhost:8080/"
        },
        "id": "0lCRmDGIMpU2",
        "outputId": "54e0d455-f980-4131-a025-393d6a8a625c"
      },
      "execution_count": 17,
      "outputs": [
        {
          "output_type": "stream",
          "name": "stdout",
          "text": [
            "Número de casas para llegar: 4\n"
          ]
        }
      ]
    },
    {
      "cell_type": "code",
      "source": [
        "# Posición inicial de pepito\n",
        "pepito_x = 2\n",
        "pepito_y = 2\n",
        "\n",
        "# Posición de maria\n",
        "maria_x = 4\n",
        "maria_y = 4\n",
        "\n",
        "# Calcula la distancia en cada eje\n",
        "distancia_x = abs(maria_x - pepito_x)\n",
        "distancia_y = abs(maria_y - pepito_y)\n",
        "\n",
        "# Calcula el número de cuadras o manzanas (casas) para llegar\n",
        "cuadras_x = distancia_x  # Distancia en el eje x\n",
        "cuadras_y = distancia_y  # Distancia en el eje y\n",
        "\n",
        "# Imprime el número de cuadras o manzanas en la ruta\n",
        "print(\"Número de cuadras (casas) para llegar:\", cuadras_x + cuadras_y)\n"
      ],
      "metadata": {
        "colab": {
          "base_uri": "https://localhost:8080/"
        },
        "id": "M_9_x3hpOEqp",
        "outputId": "b0c9e97e-82c0-4cff-8fab-dfb14bd28491"
      },
      "execution_count": 18,
      "outputs": [
        {
          "output_type": "stream",
          "name": "stdout",
          "text": [
            "Número de cuadras (casas) para llegar: 4\n"
          ]
        }
      ]
    },
    {
      "cell_type": "code",
      "source": [
        "# Coordenadas de las dos casas\n",
        "f1=int(input(\"Ingrese la fila de la primera casa: \"))\n",
        "c1=int(input(\"Ingrese la columna de la primera casa\"))\n",
        "casa1 = (f1, c1)  # Fila 0, columna 0\n",
        "f2=int(input(\"Ingrese la fila de la segunda casa: \"))\n",
        "c2=int(input(\"Ingrese la columna de la segunda casa\"))\n",
        "casa2 = (f2, c2)  # Fila 2, columna 3\n",
        "import math\n",
        "# Calculamos la distancia utilizando la fórmula de distancia euclidiana\n",
        "distancia = math.sqrt((casa2[0] - casa1[0]) ** 2 + (casa2[1] - casa1[1]) ** 2)\n",
        "distancia = distancia-1\n",
        "# Imprimimos el resultado\n",
        "print(\"el amor de tu vida esta a:\", distancia,\"casas de distancia\")"
      ],
      "metadata": {
        "colab": {
          "base_uri": "https://localhost:8080/"
        },
        "id": "XUzHE-nnOWqo",
        "outputId": "a5a94621-89df-47a6-e016-6eb7c8783e35"
      },
      "execution_count": 19,
      "outputs": [
        {
          "output_type": "stream",
          "name": "stdout",
          "text": [
            "Ingrese la fila de la primera casa: 2\n",
            "Ingrese la columna de la primera casa2\n",
            "Ingrese la fila de la primera casa: 4\n",
            "Ingrese la columna de la primera casa4\n",
            "el amor de tu vida esta a: 1.8284271247461903 casas de distancia\n"
          ]
        }
      ]
    },
    {
      "cell_type": "code",
      "source": [
        "# Coordenadas de las dos casas\n",
        "f1 = int(input(\"Ingrese la fila de la primera casa: \"))\n",
        "c1 = int(input(\"Ingrese la columna de la primera casa: \"))\n",
        "f2 = int(input(\"Ingrese la fila de la segunda casa: \"))\n",
        "c2 = int(input(\"Ingrese la columna de la segunda casa: \"))\n",
        "\n",
        "# Calculamos la distancia utilizando la fórmula de distancia euclidiana\n",
        "distancia = ((f2 - f1) ** 2 + (c2 - c1) ** 2) ** 0.5\n",
        "\n",
        "# Imprimimos el resultado\n",
        "print(\"La distancia entre las dos casas es:\", distancia)\n"
      ],
      "metadata": {
        "colab": {
          "base_uri": "https://localhost:8080/"
        },
        "id": "NzkQ3cd0Oun4",
        "outputId": "8a5f1d01-acae-4402-e829-6b04337a7c5e"
      },
      "execution_count": 20,
      "outputs": [
        {
          "output_type": "stream",
          "name": "stdout",
          "text": [
            "Ingrese la fila de la primera casa: 2\n",
            "Ingrese la columna de la primera casa: 2\n",
            "Ingrese la fila de la segunda casa: 4\n",
            "Ingrese la columna de la segunda casa: 4\n",
            "La distancia entre las dos casas es: 2.8284271247461903\n"
          ]
        }
      ]
    }
  ]
}